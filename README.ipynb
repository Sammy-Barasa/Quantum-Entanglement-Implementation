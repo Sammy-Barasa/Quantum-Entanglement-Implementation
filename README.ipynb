{
  "cells": [
    {
      "cell_type": "markdown",
      "metadata": {},
      "source": []
    },
    {
      "cell_type": "markdown",
      "metadata": {},
      "source": [
        "\n",
        "\n",
        "### The best known example of quantum cryptography is quantum key distribution which offers an information-theoretically secure solution to the key exchange problem. The advantage of quantum cryptography lies in the fact that it allows the completion of various cryptographic tasks that are proven or conjectured to be impossible using only classical (i.e. non-quantum) communication. \n",
        "\n",
        "#### For example, it is impossible to copy data encoded in a quantum state. If one attempts to read the encoded data, the quantum state will be changed due to wave function collapse (no-cloning theorem). This could be used to detect eavesdropping in quantum key distribution (QKD).\n",
        "\n",
        "##### The main breakthrough came when we realized that photons were never meant to store information, but rather to transmit it \n",
        "###### [Bennett, Charles H.; et al. (1992). \"Experimental quantum cryptography\". Journal of Cryptology. 5 (1): 3–28. doi:10.1007/bf00191318. S2CID 206771454.]\n",
        "\n",
        "### Quantum Computers Foundational topics\n",
        "\n",
        "Classical computers use bits, while quantum computers use ***qubits***\n",
        "\n",
        "* ##### Superposition \n",
        "Qubit can take 0,1 or any linear combination of the two\n",
        "* ##### Gates\n",
        "Qubits are manipulated using gates\n",
        "* ##### Measurement\n",
        "When a qubit is measured it looses its superposition and becomes a simple 0 or 1\n",
        "* ##### Intereference\n",
        "A quantum state is a linear combination and 0 state and 1 state. A computation applied to a quantum state applies to 0 and 1 states thus parallel computation. But during measurement only result from one state is measured and quantum gates are arranged such that it amlifies the correct answer and cancels the wrong ones a process called interference.\n",
        "* ##### Entanglement \n",
        "When qubits are entangled their states become extreemly correlated. Changing the state of one qubit changes the state of the other\n",
        "\n",
        "![ Introduction to quantum computing](intro2.png \"intro to quantum computers\")\n",
        "\n",
        "\n",
        "\n",
        "\n",
        "\n",
        "##### Qiskit is IBM SDK for buidling quantum circuits and programs. Qiskit runtime runs and optimizes qiskit programs on real quantum computer service\n",
        "\n",
        "##### Quantum computing LAB was created on IBM quantum Computing service. A snippet of the lab work is shown below\n",
        "\n",
        "![ lab created on IBM ](lab.png \"New lab at Quantum Computing Lab IBM\")\n",
        "\n",
        "##### Qiskit instruction set\n",
        "![ quantum instruction set](instructions.png \"quantum instruction set\")\n",
        "\n",
        "![ quantum instruction set](instructions2.png \"quantum instruction set\")\n",
        "\n",
        "#### The teleportation task\n",
        "\n",
        "1. ##### Creating the Entangled Pair\n",
        "Using the ***had*** and ***cnot*** achieves an entangled pair\n",
        "\n",
        "2. ##### Prepairing the payload\n",
        "Alice can prepare the payload to be sent.\n",
        "How she prepares it depends, of course, on the nature of the (quantum)   \n",
        "information that she wants to send to Bob. She might write a value to   \n",
        "the payload qubit, entangle it with some other QPU data, or even receive   \n",
        "it from a previous computation in some\n",
        "entirely separate part of her QPU\n",
        "\n",
        "3. ##### Link the Payload to the Entangled Pair\n",
        "The conditional nature of the CNOT operation can entangle\n",
        "the states of two qubits.    \n",
        "Alice now uses this fact to entangle her payload qubit with   \n",
        "her half of the entangled pair she already shares with Bob\n",
        "\n",
        "4. ##### Put the Payload into a Superposition\n",
        "To make the link that Alice has created for her payload actually useful,   \n",
        "she needs to finish by performing a HAD operation on her payload,\n",
        "\n",
        "5. ##### READ Both of Alice’s Qubits\n",
        "As we’ll see, it turns out that the results of this unavoidably    \n",
        "destructive READ operation are crucial for the telepor‐tation protocol to work.    \n",
        "Copying quantum states is not possible, even when using entanglement. The only    \n",
        "option to communicate quantum states is to teleport them, and when teleporting,    \n",
        "we must destroy the original\n",
        "\n",
        "6. ##### Receive and Transform\n",
        "Bob now holds a qubit indistinguishable\n",
        "from Alice’s initial payload.\n",
        "\n",
        "7. ##### Verify the Result\n",
        "By reading Bob's final qubit value received\n",
        "\n"
      ]
    },
    {
      "cell_type": "code",
      "execution_count": 59,
      "metadata": {
        "colab": {
          "base_uri": "https://localhost:8080/"
        },
        "id": "5cmhrMscQ9Zv",
        "outputId": "f4de6b9f-8aae-4100-f545-435bea131694"
      },
      "outputs": [],
      "source": [
        "# COLAB = False\n",
        "\n",
        "# if COLAB:\n",
        "#     !pip install qiskit\n",
        "# else:\n",
        "#     !pip install qiskit"
      ]
    },
    {
      "cell_type": "code",
      "execution_count": 60,
      "metadata": {
        "id": "55DsOhIqNC0h"
      },
      "outputs": [],
      "source": [
        "from qiskit import QuantumCircuit, Aer, transpile, assemble\n",
        "from qiskit.visualization import plot_histogram, plot_bloch_multivector\n",
        "from numpy.random import randint\n",
        "import numpy as np"
      ]
    },
    {
      "cell_type": "code",
      "execution_count": 61,
      "metadata": {
        "colab": {
          "base_uri": "https://localhost:8080/"
        },
        "id": "7aASJA-kSaC3",
        "outputId": "6e819759-1df4-4ae3-e1ea-23df1b811ff6"
      },
      "outputs": [
        {
          "data": {
            "text/plain": [
              "[AerSimulator('aer_simulator'),\n",
              " AerSimulator('aer_simulator_statevector'),\n",
              " AerSimulator('aer_simulator_density_matrix'),\n",
              " AerSimulator('aer_simulator_stabilizer'),\n",
              " AerSimulator('aer_simulator_matrix_product_state'),\n",
              " AerSimulator('aer_simulator_extended_stabilizer'),\n",
              " AerSimulator('aer_simulator_unitary'),\n",
              " AerSimulator('aer_simulator_superop'),\n",
              " QasmSimulator('qasm_simulator'),\n",
              " StatevectorSimulator('statevector_simulator'),\n",
              " UnitarySimulator('unitary_simulator'),\n",
              " PulseSimulator('pulse_simulator')]"
            ]
          },
          "execution_count": 61,
          "metadata": {},
          "output_type": "execute_result"
        }
      ],
      "source": [
        "Aer.backends()"
      ]
    },
    {
      "cell_type": "code",
      "execution_count": 62,
      "metadata": {
        "colab": {
          "base_uri": "https://localhost:8080/",
          "height": 400
        },
        "id": "bIUtJD3jN4Po",
        "outputId": "e1e90993-9ed7-4fb0-b160-f30b0b9eff71"
      },
      "outputs": [
        {
          "data": {
            "text/html": [
              "<pre style=\"word-wrap: normal;white-space: pre;background: #fff0;line-height: 1.1;font-family: &quot;Courier New&quot;,Courier,monospace\">     ┌───┐ ░ ┌───┐┌─┐\n",
              "  q: ┤ H ├─░─┤ H ├┤M├\n",
              "     └───┘ ░ └───┘└╥┘\n",
              "c: 1/══════════════╩═\n",
              "                   0 </pre>"
            ],
            "text/plain": [
              "     ┌───┐ ░ ┌───┐┌─┐\n",
              "  q: ┤ H ├─░─┤ H ├┤M├\n",
              "     └───┘ ░ └───┘└╥┘\n",
              "c: 1/══════════════╩═\n",
              "                   0 "
            ]
          },
          "metadata": {},
          "output_type": "display_data"
        },
        {
          "data": {
            "image/png": "[encoded data removed]",
            "text/plain": [
              "<Figure size 700x500 with 1 Axes>"
            ]
          },
          "execution_count": 62,
          "metadata": {},
          "output_type": "execute_result"
        }
      ],
      "source": [
        "# 1, quantum register, 1 classical register\n",
        "\n",
        "qc = QuantumCircuit(1, 1)\n",
        "\n",
        "# Preparation of Alice's (Voter) qubit in state |+>\n",
        "qc.h(0) # hadarmad gate, allow quantum state to be measured as 50% 0 0r 1\n",
        "\n",
        "qc.barrier()\n",
        "\n",
        "# Bob (Admin) receives the qubit and measures it in the X-basis\n",
        "qc.h(0)\n",
        "qc.measure(0, 0)\n",
        "\n",
        "display(qc.draw())\n",
        "simulator = Aer.get_backend('aer_simulator')\n",
        "job = simulator.run(assemble(qc))\n",
        "plot_histogram(job.result().get_counts())"
      ]
    },
    {
      "cell_type": "code",
      "execution_count": 63,
      "metadata": {
        "colab": {
          "base_uri": "https://localhost:8080/",
          "height": 400
        },
        "id": "fbBZnjt5UCWh",
        "outputId": "a3b1af2b-8192-4986-bdc6-f1e6fad1671b"
      },
      "outputs": [
        {
          "data": {
            "text/html": [
              "<pre style=\"word-wrap: normal;white-space: pre;background: #fff0;line-height: 1.1;font-family: &quot;Courier New&quot;,Courier,monospace\">     ┌───┐┌─┐ ░ ┌───┐┌─┐\n",
              "  q: ┤ H ├┤M├─░─┤ H ├┤M├\n",
              "     └───┘└╥┘ ░ └───┘└╥┘\n",
              "c: 1/══════╩══════════╩═\n",
              "           0          0 </pre>"
            ],
            "text/plain": [
              "     ┌───┐┌─┐ ░ ┌───┐┌─┐\n",
              "  q: ┤ H ├┤M├─░─┤ H ├┤M├\n",
              "     └───┘└╥┘ ░ └───┘└╥┘\n",
              "c: 1/══════╩══════════╩═\n",
              "           0          0 "
            ]
          },
          "metadata": {},
          "output_type": "display_data"
        },
        {
          "data": {
            "image/png": "[encoded data removed]",
            "text/plain": [
              "<Figure size 700x500 with 1 Axes>"
            ]
          },
          "execution_count": 63,
          "metadata": {},
          "output_type": "execute_result"
        }
      ],
      "source": [
        "qc = QuantumCircuit(1, 1)\n",
        "\n",
        "# Preparation of Alice's qubit in state |+>\n",
        "qc.h(0)\n",
        "\n",
        "# Alice sends the qubit to Bob. However, Eve taps into the system and intercepts the message\n",
        "qc.measure(0, 0)\n",
        "qc.barrier()\n",
        "\n",
        "# Eve, after getting the message, passes it to Bob who still measures it in the X-basis\n",
        "qc.h(0)\n",
        "qc.measure(0, 0)\n",
        "\n",
        "display(qc.draw())\n",
        "simulator = Aer.get_backend('aer_simulator')\n",
        "job = simulator.run(assemble(qc))\n",
        "plot_histogram(job.result().get_counts())"
      ]
    },
    {
      "cell_type": "markdown",
      "metadata": {
        "id": "CRS3UZ8JbObT"
      },
      "source": [
        "#### Quantum Key Distribution with BB84 algorithm\n",
        "\n",
        "- Step 1\n",
        "\n",
        "Alice chooses a string of random bits, e.g.:   \n",
        "1000101011010100\n",
        "And a random choice of basis for each bit:   \n",
        "ZZXZXXXZXZXXXXXX\n",
        "Alice keeps these two pieces of information private to herself.\n",
        "\n",
        "- Step 2\n",
        "\n",
        "Alice then encodes each bit onto a string of qubits using the basis she chose;    \n",
        "this means each qubit is in one of the states |0⟩ , |1⟩ , |+⟩ or |−⟩ , chosen at random.    \n",
        "In this case, the string of qubits would look like\n",
        "this:\n",
        "    This is the message she sends to Bob.\n",
        "\n",
        "- Step 3\n",
        "\n",
        "Bob then measures each qubit at random, for example, he might use the bases:   \n",
        "XZZZXZXZXZXZZZXZ\n",
        "And Bob keeps the measurement results private.\n",
        "\n",
        "- Step 4\n",
        "\n",
        "Bob and Alice then publicly share which basis they used for each qubit.    \n",
        "If Bob measured a qubit in the same basis Alice prepared it in, they use this to    \n",
        "form part of their shared secret key, otherwise they discard the information for that bit.  \n",
        "\n",
        "![ BB84 encryption illustration ](t.png \"BB84 illustration\")\n",
        "\n",
        "- Step 5\n",
        "\n",
        "Finally, Bob and Alice share a random sample of their keys, and if the samples match,    \n",
        "they can be sure (to a small margin of error) that their transmission is successful.\n",
        "\n",
        "\n",
        "![ BB84 encryption illustration ](bb84.png \"BB84 illustration\")\n",
        "\n",
        "\n"
      ]
    },
    {
      "cell_type": "code",
      "execution_count": 64,
      "metadata": {
        "colab": {
          "base_uri": "https://localhost:8080/"
        },
        "id": "S5JEki9FZQEo",
        "outputId": "1b2d55d1-1d9b-4369-c81c-705e72efbfb3"
      },
      "outputs": [
        {
          "name": "stdout",
          "output_type": "stream",
          "text": [
            "[0 1 1 0 1 1 1 1 1 1 1 0 0 1 0 0 0 0 0 1 0 1 1 0 0 1 1 1 1 0 1 0 1 0 1 1 0\n",
            " 1 1 0 0 1 0 1 1 1 1 1 0 1 0 1 1 1 1 0 1 0 0 1 1 0 1 0 1 0 0 0 0 0 1 1 0 0\n",
            " 0 1 1 0 1 0 0 1 0 1 1 1 1 1 1 0 1 1 0 0 1 0 0 1 1 0]\n"
          ]
        }
      ],
      "source": [
        "np.random.seed(seed=0)\n",
        "n = 100\n",
        "alice_bits = randint(2, size=n)\n",
        "print(alice_bits)"
      ]
    },
    {
      "cell_type": "markdown",
      "metadata": {
        "id": "C5FMkI67cm-S"
      },
      "source": [
        "This set of random bits is only known to Alice. Alice then encodes each bit on in the X or Z-basis at random,    \n",
        "storing the choice of each qubit in alice_bases. In this case, a 0 means in \"prepare in the Z-basis\" and a 1 means \"prepare in the X-basis\""
      ]
    },
    {
      "cell_type": "code",
      "execution_count": 65,
      "metadata": {
        "colab": {
          "base_uri": "https://localhost:8080/"
        },
        "id": "5l-OIIFqdxCj",
        "outputId": "abd31556-f049-4cdf-8c1f-a5d9fa157a0b"
      },
      "outputs": [
        {
          "name": "stdout",
          "output_type": "stream",
          "text": [
            "Alice's biases: [1 0 0 1 0 0 0 1 1 0 1 0 0 0 0 0 1 0 1 0 1 1 1 1 1 0 1 1 1 1 0 1 1 0 0 1 0\n",
            " 0 0 0 1 1 0 0 1 0 1 1 1 1 0 0 0 1 0 1 1 1 0 1 0 0 1 0 1 1 0 0 1 0 1 0 1 0\n",
            " 1 0 1 0 0 0 1 0 1 0 1 0 0 0 0 0 1 0 0 1 0 0 0 1 0 0]\n"
          ]
        }
      ],
      "source": [
        "\n",
        "# An array is created stating which qubits are recorded in which bases\n",
        "alice_bases = randint(2, size=n)\n",
        "print(f\"Alice's biases: {alice_bases}\")"
      ]
    },
    {
      "cell_type": "markdown",
      "metadata": {
        "id": "gW7bMPrtfRXc"
      },
      "source": [
        "Alice also keeps this knowledge private. The function below creates a list of    \n",
        "QuantumCircuits each representing a single qubit in Alice's message."
      ]
    },
    {
      "cell_type": "code",
      "execution_count": 82,
      "metadata": {
        "id": "ewdlu0SfgbOR"
      },
      "outputs": [
        {
          "name": "stdout",
          "output_type": "stream",
          "text": [
            "[<qiskit.circuit.quantumcircuit.QuantumCircuit object at 0x00000206CA5D5450>, <qiskit.circuit.quantumcircuit.QuantumCircuit object at 0x00000206CA49C580>, <qiskit.circuit.quantumcircuit.QuantumCircuit object at 0x00000206CA49CAF0>, <qiskit.circuit.quantumcircuit.QuantumCircuit object at 0x00000206CA49EBC0>, <qiskit.circuit.quantumcircuit.QuantumCircuit object at 0x00000206CA49D780>, <qiskit.circuit.quantumcircuit.QuantumCircuit object at 0x00000206CA49C3A0>, <qiskit.circuit.quantumcircuit.QuantumCircuit object at 0x00000206CA49CC10>, <qiskit.circuit.quantumcircuit.QuantumCircuit object at 0x00000206CA49D2A0>, <qiskit.circuit.quantumcircuit.QuantumCircuit object at 0x00000206CA49DAE0>, <qiskit.circuit.quantumcircuit.QuantumCircuit object at 0x00000206CA49E860>, <qiskit.circuit.quantumcircuit.QuantumCircuit object at 0x00000206CA49FCD0>, <qiskit.circuit.quantumcircuit.QuantumCircuit object at 0x00000206CA49DA50>, <qiskit.circuit.quantumcircuit.QuantumCircuit object at 0x00000206CA49DB10>, <qiskit.circuit.quantumcircuit.QuantumCircuit object at 0x00000206CA49EA70>, <qiskit.circuit.quantumcircuit.QuantumCircuit object at 0x00000206CA49FAF0>, <qiskit.circuit.quantumcircuit.QuantumCircuit object at 0x00000206CA49F2E0>, <qiskit.circuit.quantumcircuit.QuantumCircuit object at 0x00000206CA49D150>, <qiskit.circuit.quantumcircuit.QuantumCircuit object at 0x00000206CA49F190>, <qiskit.circuit.quantumcircuit.QuantumCircuit object at 0x00000206CA49EE90>, <qiskit.circuit.quantumcircuit.QuantumCircuit object at 0x00000206CA454520>, <qiskit.circuit.quantumcircuit.QuantumCircuit object at 0x00000206CA457E80>, <qiskit.circuit.quantumcircuit.QuantumCircuit object at 0x00000206CA457550>, <qiskit.circuit.quantumcircuit.QuantumCircuit object at 0x00000206CA454100>, <qiskit.circuit.quantumcircuit.QuantumCircuit object at 0x00000206CA454B80>, <qiskit.circuit.quantumcircuit.QuantumCircuit object at 0x00000206CA457C10>, <qiskit.circuit.quantumcircuit.QuantumCircuit object at 0x00000206CA4566E0>, <qiskit.circuit.quantumcircuit.QuantumCircuit object at 0x00000206CA4552A0>, <qiskit.circuit.quantumcircuit.QuantumCircuit object at 0x00000206CA457460>, <qiskit.circuit.quantumcircuit.QuantumCircuit object at 0x00000206CA4564A0>, <qiskit.circuit.quantumcircuit.QuantumCircuit object at 0x00000206CA455BD0>, <qiskit.circuit.quantumcircuit.QuantumCircuit object at 0x00000206CA457790>, <qiskit.circuit.quantumcircuit.QuantumCircuit object at 0x00000206CA456470>, <qiskit.circuit.quantumcircuit.QuantumCircuit object at 0x00000206CA456680>, <qiskit.circuit.quantumcircuit.QuantumCircuit object at 0x00000206CA457F70>, <qiskit.circuit.quantumcircuit.QuantumCircuit object at 0x00000206CA457AF0>, <qiskit.circuit.quantumcircuit.QuantumCircuit object at 0x00000206CA457F40>, <qiskit.circuit.quantumcircuit.QuantumCircuit object at 0x00000206CA457B50>, <qiskit.circuit.quantumcircuit.QuantumCircuit object at 0x00000206CA4577F0>, <qiskit.circuit.quantumcircuit.QuantumCircuit object at 0x00000206CA457310>, <qiskit.circuit.quantumcircuit.QuantumCircuit object at 0x00000206CA457070>, <qiskit.circuit.quantumcircuit.QuantumCircuit object at 0x00000206CA456CE0>, <qiskit.circuit.quantumcircuit.QuantumCircuit object at 0x00000206CA456860>, <qiskit.circuit.quantumcircuit.QuantumCircuit object at 0x00000206CA456560>, <qiskit.circuit.quantumcircuit.QuantumCircuit object at 0x00000206CA4561A0>, <qiskit.circuit.quantumcircuit.QuantumCircuit object at 0x00000206CA455DE0>, <qiskit.circuit.quantumcircuit.QuantumCircuit object at 0x00000206CA455A80>, <qiskit.circuit.quantumcircuit.QuantumCircuit object at 0x00000206CA455660>, <qiskit.circuit.quantumcircuit.QuantumCircuit object at 0x00000206CA455300>, <qiskit.circuit.quantumcircuit.QuantumCircuit object at 0x00000206CA455000>, <qiskit.circuit.quantumcircuit.QuantumCircuit object at 0x00000206CA454C40>, <qiskit.circuit.quantumcircuit.QuantumCircuit object at 0x00000206CA454790>, <qiskit.circuit.quantumcircuit.QuantumCircuit object at 0x00000206CA454430>, <qiskit.circuit.quantumcircuit.QuantumCircuit object at 0x00000206CA454490>, <qiskit.circuit.quantumcircuit.QuantumCircuit object at 0x00000206CA1DA890>, <qiskit.circuit.quantumcircuit.QuantumCircuit object at 0x00000206CA1DA9B0>, <qiskit.circuit.quantumcircuit.QuantumCircuit object at 0x00000206CA1DBAC0>, <qiskit.circuit.quantumcircuit.QuantumCircuit object at 0x00000206CA1DAB60>, <qiskit.circuit.quantumcircuit.QuantumCircuit object at 0x00000206CA1D9570>, <qiskit.circuit.quantumcircuit.QuantumCircuit object at 0x00000206CA1DB550>, <qiskit.circuit.quantumcircuit.QuantumCircuit object at 0x00000206CA1D9180>, <qiskit.circuit.quantumcircuit.QuantumCircuit object at 0x00000206CA1D9C90>, <qiskit.circuit.quantumcircuit.QuantumCircuit object at 0x00000206CA1DBD00>, <qiskit.circuit.quantumcircuit.QuantumCircuit object at 0x00000206CA1D9F00>, <qiskit.circuit.quantumcircuit.QuantumCircuit object at 0x00000206CA1D9480>, <qiskit.circuit.quantumcircuit.QuantumCircuit object at 0x00000206CA1DAEC0>, <qiskit.circuit.quantumcircuit.QuantumCircuit object at 0x00000206CA1D9270>, <qiskit.circuit.quantumcircuit.QuantumCircuit object at 0x00000206CA1D8E20>, <qiskit.circuit.quantumcircuit.QuantumCircuit object at 0x00000206CA1DBD60>, <qiskit.circuit.quantumcircuit.QuantumCircuit object at 0x00000206CA1D95A0>, <qiskit.circuit.quantumcircuit.QuantumCircuit object at 0x00000206CA1DB5E0>, <qiskit.circuit.quantumcircuit.QuantumCircuit object at 0x00000206CA1DB4F0>, <qiskit.circuit.quantumcircuit.QuantumCircuit object at 0x00000206CA1DB820>, <qiskit.circuit.quantumcircuit.QuantumCircuit object at 0x00000206C8BB6EF0>, <qiskit.circuit.quantumcircuit.QuantumCircuit object at 0x00000206C8BB5D80>, <qiskit.circuit.quantumcircuit.QuantumCircuit object at 0x00000206C8BB7340>, <qiskit.circuit.quantumcircuit.QuantumCircuit object at 0x00000206C8BB6500>, <qiskit.circuit.quantumcircuit.QuantumCircuit object at 0x00000206CA404D00>, <qiskit.circuit.quantumcircuit.QuantumCircuit object at 0x00000206CA405A20>, <qiskit.circuit.quantumcircuit.QuantumCircuit object at 0x00000206CA4064D0>, <qiskit.circuit.quantumcircuit.QuantumCircuit object at 0x00000206CA405420>, <qiskit.circuit.quantumcircuit.QuantumCircuit object at 0x00000206CA407040>, <qiskit.circuit.quantumcircuit.QuantumCircuit object at 0x00000206CA406290>, <qiskit.circuit.quantumcircuit.QuantumCircuit object at 0x00000206CA4047F0>, <qiskit.circuit.quantumcircuit.QuantumCircuit object at 0x00000206CA406770>, <qiskit.circuit.quantumcircuit.QuantumCircuit object at 0x00000206CA405EA0>, <qiskit.circuit.quantumcircuit.QuantumCircuit object at 0x00000206CA4055D0>, <qiskit.circuit.quantumcircuit.QuantumCircuit object at 0x00000206CA4040A0>, <qiskit.circuit.quantumcircuit.QuantumCircuit object at 0x00000206CA406200>, <qiskit.circuit.quantumcircuit.QuantumCircuit object at 0x00000206CA404F70>, <qiskit.circuit.quantumcircuit.QuantumCircuit object at 0x00000206CA406410>, <qiskit.circuit.quantumcircuit.QuantumCircuit object at 0x00000206CA405270>, <qiskit.circuit.quantumcircuit.QuantumCircuit object at 0x00000206CA404F40>, <qiskit.circuit.quantumcircuit.QuantumCircuit object at 0x00000206CA406980>, <qiskit.circuit.quantumcircuit.QuantumCircuit object at 0x00000206CA405F90>, <qiskit.circuit.quantumcircuit.QuantumCircuit object at 0x00000206CA4073D0>, <qiskit.circuit.quantumcircuit.QuantumCircuit object at 0x00000206CA405CC0>, <qiskit.circuit.quantumcircuit.QuantumCircuit object at 0x00000206CA404040>, <qiskit.circuit.quantumcircuit.QuantumCircuit object at 0x00000206CA4061D0>, <qiskit.circuit.quantumcircuit.QuantumCircuit object at 0x00000206CA4072E0>, <qiskit.circuit.quantumcircuit.QuantumCircuit object at 0x00000206CA407EE0>]\n"
          ]
        }
      ],
      "source": [
        "def encode_message(bits, bases):\n",
        "      message = []\n",
        "      for i in range(n):\n",
        "        qc = QuantumCircuit(1, 1)\n",
        "        if bases[i] == 0: # Qubit prepared in Z-basis\n",
        "          if bits[i] == 0:\n",
        "            pass\n",
        "          else: \n",
        "            qc.x(0)\n",
        "        else: # Qubit prepared in X-basis\n",
        "          if bits[i] == 0:\n",
        "            qc.h(0)\n",
        "          else:\n",
        "            qc.x(0)\n",
        "            qc.h(0)\n",
        "        qc.barrier()\n",
        "        message.append(qc)\n",
        "      return message\n",
        "\n",
        "message = encode_message(alice_bits, alice_bases)\n",
        "print(message)"
      ]
    },
    {
      "cell_type": "markdown",
      "metadata": {
        "id": "hoeRtjR6ioHx"
      },
      "source": [
        "The message of qubits is then sent to Bob over Eve's quantum channel.    \n",
        "Bob then measures each qubit in the X or Z-basis at random and stores this information"
      ]
    },
    {
      "cell_type": "code",
      "execution_count": 67,
      "metadata": {
        "colab": {
          "base_uri": "https://localhost:8080/"
        },
        "id": "AjsS77JPjEA3",
        "outputId": "74c1d581-f9b0-41a7-d403-d4d942bba60a"
      },
      "outputs": [
        {
          "name": "stdout",
          "output_type": "stream",
          "text": [
            "Bob biases: [1 0 1 0 0 1 1 0 0 0 1 1 0 0 0 0 0 1 0 1 0 0 0 1 1 1 0 0 1 1 1 1 0 0 0 1 1\n",
            " 0 1 0 0 1 0 1 1 1 1 0 0 0 1 1 1 0 1 1 1 1 0 0 1 1 0 0 0 1 1 0 1 1 1 1 1 0\n",
            " 0 0 1 0 1 0 1 1 0 0 0 1 0 0 1 1 1 1 0 1 0 0 0 0 1 1]\n"
          ]
        }
      ],
      "source": [
        "bob_bases = randint(2, size=n)\n",
        "print(f\"Bob biases: {bob_bases}\")"
      ]
    },
    {
      "cell_type": "markdown",
      "metadata": {
        "id": "v9sHnlxXjWeu"
      },
      "source": [
        "bob_bases stores Bob's choice for which basis he measures each qubit in.    \n",
        "The function below applies the corresponding measurement and simulates the result of measuring each qubit.    \n",
        "The measurement results are stored in bob_results"
      ]
    },
    {
      "cell_type": "code",
      "execution_count": 68,
      "metadata": {
        "id": "LJONWmcakzC5"
      },
      "outputs": [],
      "source": [
        "def measure_message(message, bases):\n",
        "  backend = Aer.get_backend('aer_simulator')\n",
        "  measurements = []\n",
        "  for q in range(n):\n",
        "    if bases[q] == 0: # Measuring in Z-basis\n",
        "      message[q].measure(0, 0)\n",
        "    if bases[q] == 1: # Measuring in X-basis\n",
        "      message[q].h(0)\n",
        "      message[q].measure(0, 0)\n",
        "    simulator = Aer.get_backend('aer_simulator')\n",
        "    qobj = assemble(message[q], shots=1, memory=True)\n",
        "    result = simulator.run(qobj).result()\n",
        "    measured_bit = int(result.get_memory() [0])\n",
        "    measurements.append(measured_bit)\n",
        "  return measurements\n",
        "\n",
        "bob_results = measure_message(message, bob_bases)\n",
        "# print(bob_results)"
      ]
    },
    {
      "cell_type": "markdown",
      "metadata": {
        "id": "Ur-jiGARsTDh"
      },
      "source": [
        "The circuit in message[0] (which represents the 0th qubit) has had an X-measurement added to it by Bob"
      ]
    },
    {
      "cell_type": "code",
      "execution_count": 69,
      "metadata": {
        "colab": {
          "base_uri": "https://localhost:8080/",
          "height": 94
        },
        "id": "zNeoi-ptspKC",
        "outputId": "9be61e29-d4bc-4864-f173-059a8a0b3902"
      },
      "outputs": [
        {
          "data": {
            "text/html": [
              "<pre style=\"word-wrap: normal;white-space: pre;background: #fff0;line-height: 1.1;font-family: &quot;Courier New&quot;,Courier,monospace\">     ┌───┐ ░ ┌───┐┌─┐\n",
              "  q: ┤ X ├─░─┤ H ├┤M├\n",
              "     └───┘ ░ └───┘└╥┘\n",
              "c: 1/══════════════╩═\n",
              "                   0 </pre>"
            ],
            "text/plain": [
              "     ┌───┐ ░ ┌───┐┌─┐\n",
              "  q: ┤ X ├─░─┤ H ├┤M├\n",
              "     └───┘ ░ └───┘└╥┘\n",
              "c: 1/══════════════╩═\n",
              "                   0 "
            ]
          },
          "execution_count": 69,
          "metadata": {},
          "output_type": "execute_result"
        }
      ],
      "source": [
        "message[6].draw()"
      ]
    },
    {
      "cell_type": "markdown",
      "metadata": {
        "id": "VN2B5u0Cvk2o"
      },
      "source": [
        "Since Bob has by chance chosen to measure in the same basis Alice encoded the qubit in, Bob is guaranteed to get the result 0.    \n",
        "For the 6th qubit (shown below), Bob's random choice measurement is not the same as Alice's and Bob's result has only a 50% chance of matching Alice's"
      ]
    },
    {
      "cell_type": "code",
      "execution_count": 70,
      "metadata": {
        "colab": {
          "base_uri": "https://localhost:8080/"
        },
        "id": "_8_c60zfwoB6",
        "outputId": "1f0540ef-1a3b-4891-a639-f6bb3db4198e"
      },
      "outputs": [
        {
          "name": "stdout",
          "output_type": "stream",
          "text": [
            "[0, 1, 1, 1, 1, 0, 1, 1, 0, 1, 1, 0, 0, 1, 0, 0, 0, 0, 1, 1, 0, 0, 0, 0, 0, 1, 0, 1, 1, 0, 1, 0, 0, 0, 1, 1, 1, 1, 1, 0, 0, 1, 0, 0, 1, 1, 1, 1, 0, 0, 0, 1, 1, 1, 0, 0, 1, 0, 0, 0, 0, 0, 1, 0, 1, 0, 0, 0, 0, 1, 1, 1, 0, 0, 0, 1, 1, 0, 0, 0, 0, 0, 1, 1, 0, 1, 1, 1, 1, 1, 1, 1, 0, 0, 1, 0, 0, 0, 0, 0]\n"
          ]
        }
      ],
      "source": [
        "print(bob_results)"
      ]
    },
    {
      "cell_type": "markdown",
      "metadata": {
        "id": "e_yLYfqMwyLW"
      },
      "source": [
        "Bob keeps his results private\n",
        "impliment a function for remove garbage to throw entries that do not match up"
      ]
    },
    {
      "cell_type": "code",
      "execution_count": 71,
      "metadata": {
        "id": "YRGsvVQXw5wA"
      },
      "outputs": [],
      "source": [
        "def remove_garbage(alice_bases, bob_bases, bits):\n",
        "  good_bits = []\n",
        "  for q in range (n):\n",
        "    if alice_bases[q] == bob_bases[q]:\n",
        "      good_bits.append(bits[q])\n",
        "  return good_bits"
      ]
    },
    {
      "cell_type": "markdown",
      "metadata": {
        "id": "YiXvqg3tzzeB"
      },
      "source": [
        "discard the bits that do not match up and use the legitimate ones"
      ]
    },
    {
      "cell_type": "code",
      "execution_count": 72,
      "metadata": {
        "colab": {
          "base_uri": "https://localhost:8080/"
        },
        "id": "NmQfTMMP0YbZ",
        "outputId": "6ee26160-20c3-43a7-e229-d5e74a982dff"
      },
      "outputs": [
        {
          "name": "stdout",
          "output_type": "stream",
          "text": [
            "Alice's key: [0, 1, 1, 1, 1, 0, 1, 0, 0, 0, 0, 1, 0, 0, 0, 1, 1, 1, 0, 1, 0, 1, 1, 0, 1, 0, 0, 0, 0, 0, 0, 1, 0, 0, 1, 1, 0, 0, 0, 1, 1, 1, 1, 0, 0, 1, 0, 0]\n",
            "Bobs's key: [0, 1, 1, 1, 1, 0, 1, 0, 0, 0, 0, 1, 0, 0, 0, 1, 1, 1, 0, 1, 0, 1, 1, 0, 1, 0, 0, 0, 0, 0, 0, 1, 0, 0, 1, 1, 0, 0, 0, 1, 1, 1, 1, 0, 0, 1, 0, 0]\n"
          ]
        }
      ],
      "source": [
        "alice_key = remove_garbage(alice_bases, bob_bases, alice_bits)\n",
        "print(f\"Alice's key: {alice_key}\")\n",
        "bob_key = remove_garbage(alice_bases, bob_bases, bob_results)\n",
        "print(f\"Bobs's key: {bob_key}\")\n"
      ]
    },
    {
      "cell_type": "markdown",
      "metadata": {
        "id": "goHv-_Ba08io"
      },
      "source": [
        "let us see bob's keys\n"
      ]
    },
    {
      "cell_type": "markdown",
      "metadata": {
        "id": "9Cxww8o01O-X"
      },
      "source": [
        "comparing the keys randomly to see if any manipulation has occured"
      ]
    },
    {
      "cell_type": "code",
      "execution_count": 73,
      "metadata": {
        "id": "vEwWXGKz1bD4"
      },
      "outputs": [],
      "source": [
        "def sample_bits(bits, selection):\n",
        "  sample = []\n",
        "  for i in selection:\n",
        "    i = np.mod(i, len(bits))\n",
        "\n",
        "    sample.append(bits.pop(i))\n",
        "  return sample"
      ]
    },
    {
      "cell_type": "markdown",
      "metadata": {
        "id": "8gyOamsv7216"
      },
      "source": [
        "broadcast the keys as they are already out there"
      ]
    },
    {
      "cell_type": "code",
      "execution_count": 74,
      "metadata": {
        "colab": {
          "base_uri": "https://localhost:8080/"
        },
        "id": "2uKSPf0k7-yG",
        "outputId": "a3d5bca9-a82f-486d-e2a5-6b651bafb8e1"
      },
      "outputs": [
        {
          "name": "stdout",
          "output_type": "stream",
          "text": [
            "bob's sample = [0, 1, 0, 1, 1, 0, 0, 0, 0, 0, 0, 1, 0, 0, 0]\n",
            "alice's sample = [0, 1, 0, 1, 1, 0, 0, 0, 0, 0, 0, 1, 0, 0, 0]\n"
          ]
        }
      ],
      "source": [
        "sample_size = 15\n",
        "bit_selection = randint(n, size = sample_size)\n",
        "\n",
        "bob_sample = sample_bits(bob_key, bit_selection)\n",
        "print(f\"bob's sample = {bob_sample}\")\n",
        "alice_sample = sample_bits(alice_key, bit_selection)\n",
        "print(f\"alice's sample = {alice_sample}\")\n",
        "\n"
      ]
    },
    {
      "cell_type": "markdown",
      "metadata": {
        "id": "vdR7yVhZ9Coj"
      },
      "source": [
        "check if the protocol worked correctly"
      ]
    },
    {
      "cell_type": "code",
      "execution_count": 75,
      "metadata": {
        "colab": {
          "base_uri": "https://localhost:8080/"
        },
        "id": "CRq8pxNU9LNp",
        "outputId": "d459b7b9-88ef-401d-ae95-07750245f9e7"
      },
      "outputs": [
        {
          "data": {
            "text/plain": [
              "True"
            ]
          },
          "execution_count": 75,
          "metadata": {},
          "output_type": "execute_result"
        }
      ],
      "source": [
        "bob_sample == alice_sample"
      ]
    },
    {
      "cell_type": "markdown",
      "metadata": {
        "id": "cUhlPNg79hgl"
      },
      "source": [
        "##### With Interception\n",
        "##### INTRODUCING THE EAVESDROPPER EVE!"
      ]
    },
    {
      "cell_type": "code",
      "execution_count": 76,
      "metadata": {
        "colab": {
          "base_uri": "https://localhost:8080/"
        },
        "id": "dIcBIG9p9nG7",
        "outputId": "ae46a4b9-28c0-477d-e4c5-c19d677fe53b"
      },
      "outputs": [
        {
          "name": "stdout",
          "output_type": "stream",
          "text": [
            "[1, 1, 1, 1, 0, 0, 1, 0, 1, 1, 1, 1, 1, 1, 0, 1, 0, 0, 0, 0, 0, 0, 0, 0, 0, 1, 1, 0, 1, 0, 0, 1, 0, 1, 1, 0, 0, 1, 0, 1, 1, 0, 0, 1, 0, 1, 1, 1, 1, 1, 1, 1, 1, 0, 0, 0, 0, 0, 0, 0, 0, 0, 0, 1, 0, 1, 0, 0, 0, 1, 0, 0, 1, 1, 1, 1, 1, 1, 1, 1, 1, 1, 0, 1, 0, 1, 1, 1, 0, 0, 1, 0, 1, 0, 0, 1, 1, 0, 1, 1]\n"
          ]
        }
      ],
      "source": [
        "np.random.seed(seed=3)\n",
        "alice_bits = randint(2, size=n)\n",
        "alice_bases = randint(2, size=n)\n",
        "message = encode_message(alice_bits, alice_bases)\n",
        "\n",
        "eve_bases = randint(2, size=n )\n",
        "intercepted_message = measure_message(message, eve_bases)\n",
        "print(intercepted_message)"
      ]
    },
    {
      "cell_type": "markdown",
      "metadata": {
        "id": "pLsJJisN_lfl"
      },
      "source": [
        "##### eve's choice of basis is different from alice, hence changing the qubit form |+> to random state in z-basis, with 50% probability of |0> or |1>\n"
      ]
    },
    {
      "cell_type": "code",
      "execution_count": 77,
      "metadata": {
        "colab": {
          "base_uri": "https://localhost:8080/",
          "height": 94
        },
        "id": "I9REOvRvADx1",
        "outputId": "e9322f76-525d-4a50-999d-b24f2b9660c1"
      },
      "outputs": [
        {
          "data": {
            "text/html": [
              "<pre style=\"word-wrap: normal;white-space: pre;background: #fff0;line-height: 1.1;font-family: &quot;Courier New&quot;,Courier,monospace\">     ┌───┐ ░ ┌─┐\n",
              "  q: ┤ H ├─░─┤M├\n",
              "     └───┘ ░ └╥┘\n",
              "c: 1/═════════╩═\n",
              "              0 </pre>"
            ],
            "text/plain": [
              "     ┌───┐ ░ ┌─┐\n",
              "  q: ┤ H ├─░─┤M├\n",
              "     └───┘ ░ └╥┘\n",
              "c: 1/═════════╩═\n",
              "              0 "
            ]
          },
          "execution_count": 77,
          "metadata": {},
          "output_type": "execute_result"
        }
      ],
      "source": [
        "message[0].draw()"
      ]
    },
    {
      "cell_type": "markdown",
      "metadata": {
        "id": "zo7DmrU5AT7X"
      },
      "source": [
        "now, bob receives the qubits and measures them either way, as he is not aware yet that interception has occured\n",
        "if he were to measure the quibits the same way alice prepared them, then he would be guaranteed to measure 0, but due to the tapping that has occured, it introduces a chance/probability of 1/2 of measuring 1"
      ]
    },
    {
      "cell_type": "code",
      "execution_count": 78,
      "metadata": {
        "colab": {
          "base_uri": "https://localhost:8080/",
          "height": 94
        },
        "id": "XElUe35MA6Az",
        "outputId": "866ad9d2-0509-433f-f81a-249a4b64f31b"
      },
      "outputs": [
        {
          "data": {
            "text/html": [
              "<pre style=\"word-wrap: normal;white-space: pre;background: #fff0;line-height: 1.1;font-family: &quot;Courier New&quot;,Courier,monospace\">     ┌───┐ ░ ┌─┐┌───┐┌─┐\n",
              "  q: ┤ H ├─░─┤M├┤ H ├┤M├\n",
              "     └───┘ ░ └╥┘└───┘└╥┘\n",
              "c: 1/═════════╩═══════╩═\n",
              "              0       0 </pre>"
            ],
            "text/plain": [
              "     ┌───┐ ░ ┌─┐┌───┐┌─┐\n",
              "  q: ┤ H ├─░─┤M├┤ H ├┤M├\n",
              "     └───┘ ░ └╥┘└───┘└╥┘\n",
              "c: 1/═════════╩═══════╩═\n",
              "              0       0 "
            ]
          },
          "execution_count": 78,
          "metadata": {},
          "output_type": "execute_result"
        }
      ],
      "source": [
        "np.random.seed(seed = 3)\n",
        "alice_bits = randint(2, size=n)\n",
        "alice_bases = randint(2, size=n)\n",
        "message = encode_message(alice_bits, alice_bases)\n",
        "\n",
        "eve_bases = randint(2, size=n )\n",
        "intercepted_message = measure_message(message, eve_bases)\n",
        "\n",
        "bob_bases = randint(2, size=n )\n",
        "bob_results= measure_message(message, bob_bases)\n",
        "message[0].draw()\n"
      ]
    },
    {
      "cell_type": "markdown",
      "metadata": {
        "id": "96o7ncY4COVT"
      },
      "source": [
        "discard the useless bits after bits after comparing them (alice and bob)\n"
      ]
    },
    {
      "cell_type": "code",
      "execution_count": 79,
      "metadata": {
        "id": "XRDBNGhXCcpP"
      },
      "outputs": [],
      "source": [
        "np.random.seed(seed = 3)\n",
        "alice_bits = randint(2, size=n)\n",
        "alice_bases = randint(2, size=n)\n",
        "message = encode_message(alice_bits, alice_bases)\n",
        "\n",
        "eve_bases = randint(2, size=n )\n",
        "intercepted_message = measure_message(message, eve_bases)\n",
        "\n",
        "bob_bases = randint(2, size=n )\n",
        "bob_results= measure_message(message, bob_bases)\n",
        "\n",
        "bob_key = remove_garbage(alice_bases, bob_bases, bob_results)\n",
        "alice_key = remove_garbage(alice_bases, bob_bases, alice_bits)"
      ]
    },
    {
      "cell_type": "markdown",
      "metadata": {
        "id": "9FBVdqZ6C_pC"
      },
      "source": [
        "comparing the bits at random to check for interception\n"
      ]
    },
    {
      "cell_type": "code",
      "execution_count": 80,
      "metadata": {
        "colab": {
          "base_uri": "https://localhost:8080/"
        },
        "id": "c2-ID2xuDJA6",
        "outputId": "c7f191dc-9df8-4244-92a0-22b2fa3a4ddc"
      },
      "outputs": [
        {
          "name": "stdout",
          "output_type": "stream",
          "text": [
            "bob's sample = [1, 1, 1, 0, 0, 1, 0, 1, 0, 0, 0, 0, 0, 1, 0]\n",
            "alice's sample = [1, 1, 0, 0, 1, 0, 0, 0, 0, 0, 0, 1, 0, 0, 0]\n"
          ]
        }
      ],
      "source": [
        "sample_size = 15\n",
        "bit_selection = randint(n, size = sample_size)\n",
        "\n",
        "bob_sample = sample_bits(bob_key, bit_selection)\n",
        "print(\"bob's sample = \" + str(bob_sample))\n",
        "alice_sample = sample_bits(alice_key, bit_selection)\n",
        "print(\"alice's sample = \" + str(alice_sample))"
      ]
    },
    {
      "cell_type": "markdown",
      "metadata": {
        "id": "40jnh1z2DSZs"
      },
      "source": [
        "check how the protocol behaved"
      ]
    },
    {
      "cell_type": "code",
      "execution_count": 81,
      "metadata": {
        "colab": {
          "base_uri": "https://localhost:8080/"
        },
        "id": "BCJ1snOmDX-W",
        "outputId": "244702a0-f65e-4337-dead-b5e4900a0663"
      },
      "outputs": [
        {
          "data": {
            "text/plain": [
              "False"
            ]
          },
          "execution_count": 81,
          "metadata": {},
          "output_type": "execute_result"
        }
      ],
      "source": [
        "bob_sample == alice_sample"
      ]
    },
    {
      "cell_type": "markdown",
      "metadata": {},
      "source": [
        "#### Physical representation of a Qubit\n",
        "\n",
        "![ Physical representation of a Qubit ](physical.png \"Physical representation of a Qubit\")  \n",
        "\n",
        "![ Physical representation of a Qubit ](physical2.png \"Physical representation of a Qubit\")"
      ]
    }
  ],
  "metadata": {
    "colab": {
      "provenance": []
    },
    "kernelspec": {
      "display_name": "Python 3.10.9 64-bit (microsoft store)",
      "language": "python",
      "name": "python3"
    },
    "language_info": {
      "codemirror_mode": {
        "name": "ipython",
        "version": 3
      },
      "file_extension": ".py",
      "mimetype": "text/x-python",
      "name": "python",
      "nbconvert_exporter": "python",
      "pygments_lexer": "ipython3",
      "version": "3.10.9"
    },
    "vscode": {
      "interpreter": {
        "hash": "2deabac808f9bb48a04e8b8c2d0c3875883d7b0fb8694279265a9f97a533afd4"
      }
    }
  },
  "nbformat": 4,
  "nbformat_minor": 0
}
